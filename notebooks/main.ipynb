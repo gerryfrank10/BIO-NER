{
 "cells": [
  {
   "cell_type": "code",
   "id": "initial_id",
   "metadata": {
    "collapsed": true,
    "ExecuteTime": {
     "end_time": "2025-07-22T17:51:08.012240Z",
     "start_time": "2025-07-22T17:51:08.008202Z"
    }
   },
   "source": [
    "from datasets import load_dataset, Dataset\n",
    "from transformers import AutoTokenizer, Trainer, TrainingArguments, AutoModelForTokenClassification"
   ],
   "outputs": [],
   "execution_count": 20
  },
  {
   "metadata": {
    "ExecuteTime": {
     "end_time": "2025-07-22T17:41:26.415683Z",
     "start_time": "2025-07-22T17:41:26.075255Z"
    }
   },
   "cell_type": "code",
   "source": [
    "model_checkpoint = 'bert-base-uncased'\n",
    "tokenizer = AutoTokenizer.from_pretrained(model_checkpoint)\n",
    "data = {\n",
    "    'tokens': [\n",
    "        ['The', 'Patient', 'was', 'diagnosed', 'with', 'diabetes']\n",
    "    ],\n",
    "    'labels': [[0, 0, 0, 0, 0, 1]] # 0 for non-medical, 1 for medical terms\n",
    "}\n",
    "label_list = ['non-medical', 'medical']\n",
    "id2label = {i: label for i, label in enumerate(label_list)}\n",
    "label2id = {label: i for i, label in id2label.items()}\n",
    "id2label"
   ],
   "id": "f9652e0f1fd2ae35",
   "outputs": [
    {
     "data": {
      "text/plain": [
       "{0: 'non-medical', 1: 'medical'}"
      ]
     },
     "execution_count": 6,
     "metadata": {},
     "output_type": "execute_result"
    }
   ],
   "execution_count": 6
  },
  {
   "metadata": {
    "ExecuteTime": {
     "end_time": "2025-07-22T17:42:27.481033Z",
     "start_time": "2025-07-22T17:42:27.475529Z"
    }
   },
   "cell_type": "code",
   "source": [
    "dataset = Dataset.from_dict(data)\n",
    "dataset"
   ],
   "id": "96063b25b0c8da97",
   "outputs": [
    {
     "data": {
      "text/plain": [
       "Dataset({\n",
       "    features: ['tokens', 'labels'],\n",
       "    num_rows: 1\n",
       "})"
      ]
     },
     "execution_count": 11,
     "metadata": {},
     "output_type": "execute_result"
    }
   ],
   "execution_count": 11
  },
  {
   "metadata": {
    "ExecuteTime": {
     "end_time": "2025-07-22T18:07:47.572373Z",
     "start_time": "2025-07-22T18:07:47.546305Z"
    }
   },
   "cell_type": "code",
   "source": [
    "def align_labels_with_tokens(examples):\n",
    "    tokenized_inputs = tokenizer(\n",
    "        examples['tokens'],\n",
    "        truncation=True,\n",
    "        is_split_into_words=True,\n",
    "        return_offsets_mapping=True\n",
    "    )\n",
    "    labels = []\n",
    "    for i, label in enumerate(examples['labels']):\n",
    "        word_ids = tokenized_inputs.word_ids(batch_index=i)\n",
    "        label_ids = []\n",
    "        for word_idx in word_ids:\n",
    "            if word_idx is None:\n",
    "                label_ids.append(-100)\n",
    "            else:\n",
    "                label_ids.append(label[word_idx])\n",
    "        labels.append(label_ids)\n",
    "    tokenized_inputs[\"labels\"] = labels\n",
    "    return tokenized_inputs\n",
    "\n",
    "tokenized_datasets = dataset.map(align_labels_with_tokens, batched=True)\n",
    "tokenized_datasets = dataset.map(align_labels_with_tokens, batched=True)\n",
    "tokenized_datasets = tokenized_datasets.rename_column(\"labels\", \"label\")\n",
    "tokenized_datasets"
   ],
   "id": "bfc0ba62a5d00e95",
   "outputs": [
    {
     "name": "stderr",
     "output_type": "stream",
     "text": [
      "Map: 100%|██████████| 1/1 [00:00<00:00, 277.92 examples/s]\n",
      "Map: 100%|██████████| 1/1 [00:00<00:00, 306.58 examples/s]\n"
     ]
    },
    {
     "data": {
      "text/plain": [
       "Dataset({\n",
       "    features: ['tokens', 'label', 'input_ids', 'token_type_ids', 'attention_mask', 'offset_mapping'],\n",
       "    num_rows: 1\n",
       "})"
      ]
     },
     "execution_count": 45,
     "metadata": {},
     "output_type": "execute_result"
    }
   ],
   "execution_count": 45
  },
  {
   "metadata": {
    "ExecuteTime": {
     "end_time": "2025-07-22T18:07:49.328879Z",
     "start_time": "2025-07-22T18:07:48.307342Z"
    }
   },
   "cell_type": "code",
   "source": [
    "import torch\n",
    "device = 'mps' if torch.backends.mps.is_available() else 'cpu'\n",
    "model = AutoModelForTokenClassification.from_pretrained(\n",
    "    model_checkpoint,\n",
    "    num_labels=len(label_list),\n",
    "    id2label=id2label,\n",
    "    label2id=label2id\n",
    ")\n",
    "model.to(device)"
   ],
   "id": "75c29852401256b4",
   "outputs": [
    {
     "name": "stderr",
     "output_type": "stream",
     "text": [
      "Some weights of BertForTokenClassification were not initialized from the model checkpoint at bert-base-uncased and are newly initialized: ['classifier.bias', 'classifier.weight']\n",
      "You should probably TRAIN this model on a down-stream task to be able to use it for predictions and inference.\n"
     ]
    },
    {
     "data": {
      "text/plain": [
       "BertForTokenClassification(\n",
       "  (bert): BertModel(\n",
       "    (embeddings): BertEmbeddings(\n",
       "      (word_embeddings): Embedding(30522, 768, padding_idx=0)\n",
       "      (position_embeddings): Embedding(512, 768)\n",
       "      (token_type_embeddings): Embedding(2, 768)\n",
       "      (LayerNorm): LayerNorm((768,), eps=1e-12, elementwise_affine=True)\n",
       "      (dropout): Dropout(p=0.1, inplace=False)\n",
       "    )\n",
       "    (encoder): BertEncoder(\n",
       "      (layer): ModuleList(\n",
       "        (0-11): 12 x BertLayer(\n",
       "          (attention): BertAttention(\n",
       "            (self): BertSdpaSelfAttention(\n",
       "              (query): Linear(in_features=768, out_features=768, bias=True)\n",
       "              (key): Linear(in_features=768, out_features=768, bias=True)\n",
       "              (value): Linear(in_features=768, out_features=768, bias=True)\n",
       "              (dropout): Dropout(p=0.1, inplace=False)\n",
       "            )\n",
       "            (output): BertSelfOutput(\n",
       "              (dense): Linear(in_features=768, out_features=768, bias=True)\n",
       "              (LayerNorm): LayerNorm((768,), eps=1e-12, elementwise_affine=True)\n",
       "              (dropout): Dropout(p=0.1, inplace=False)\n",
       "            )\n",
       "          )\n",
       "          (intermediate): BertIntermediate(\n",
       "            (dense): Linear(in_features=768, out_features=3072, bias=True)\n",
       "            (intermediate_act_fn): GELUActivation()\n",
       "          )\n",
       "          (output): BertOutput(\n",
       "            (dense): Linear(in_features=3072, out_features=768, bias=True)\n",
       "            (LayerNorm): LayerNorm((768,), eps=1e-12, elementwise_affine=True)\n",
       "            (dropout): Dropout(p=0.1, inplace=False)\n",
       "          )\n",
       "        )\n",
       "      )\n",
       "    )\n",
       "  )\n",
       "  (dropout): Dropout(p=0.1, inplace=False)\n",
       "  (classifier): Linear(in_features=768, out_features=2, bias=True)\n",
       ")"
      ]
     },
     "execution_count": 46,
     "metadata": {},
     "output_type": "execute_result"
    }
   ],
   "execution_count": 46
  },
  {
   "metadata": {
    "ExecuteTime": {
     "end_time": "2025-07-22T18:07:49.354481Z",
     "start_time": "2025-07-22T18:07:49.352724Z"
    }
   },
   "cell_type": "code",
   "source": [
    "def compute_metrics(eval_pred):\n",
    "    logits, labels = eval_pred\n",
    "    predictions = logits.argmax(axis=-1)\n",
    "    accuracy = (predictions == labels).mean()\n",
    "    return {'accuracy': accuracy}"
   ],
   "id": "5b4017204694d0d9",
   "outputs": [],
   "execution_count": 47
  },
  {
   "metadata": {
    "ExecuteTime": {
     "end_time": "2025-07-22T18:07:49.451887Z",
     "start_time": "2025-07-22T18:07:49.436563Z"
    }
   },
   "cell_type": "code",
   "source": [
    "args = TrainingArguments(\n",
    "    learning_rate=2e-5,\n",
    "    weight_decay=0.01,\n",
    "    per_device_train_batch_size=16,\n",
    "    per_device_eval_batch_size=16,\n",
    "    output_dir='output',\n",
    "    num_train_epochs=2,\n",
    ")\n",
    "trainer = Trainer(\n",
    "    model=model,\n",
    "    args=args,\n",
    "    train_dataset=tokenized_datasets,\n",
    "    eval_dataset=tokenized_datasets,\n",
    "    compute_metrics=compute_metrics,\n",
    ")"
   ],
   "id": "17437f6827dd02c7",
   "outputs": [],
   "execution_count": 48
  },
  {
   "metadata": {
    "ExecuteTime": {
     "end_time": "2025-07-22T18:07:53.095462Z",
     "start_time": "2025-07-22T18:07:50.168421Z"
    }
   },
   "cell_type": "code",
   "source": "trainer.train()",
   "id": "ce90e13ada0b281c",
   "outputs": [
    {
     "name": "stderr",
     "output_type": "stream",
     "text": [
      "/opt/anaconda3/envs/Dissertation/lib/python3.12/site-packages/torch/utils/data/dataloader.py:683: UserWarning: 'pin_memory' argument is set as true but not supported on MPS now, then device pinned memory won't be used.\n",
      "  warnings.warn(warn_msg)\n"
     ]
    },
    {
     "data": {
      "text/plain": [
       "<IPython.core.display.HTML object>"
      ],
      "text/html": [
       "\n",
       "    <div>\n",
       "      \n",
       "      <progress value='2' max='2' style='width:300px; height:20px; vertical-align: middle;'></progress>\n",
       "      [2/2 00:02, Epoch 2/2]\n",
       "    </div>\n",
       "    <table border=\"1\" class=\"dataframe\">\n",
       "  <thead>\n",
       " <tr style=\"text-align: left;\">\n",
       "      <th>Step</th>\n",
       "      <th>Training Loss</th>\n",
       "    </tr>\n",
       "  </thead>\n",
       "  <tbody>\n",
       "  </tbody>\n",
       "</table><p>"
      ]
     },
     "metadata": {},
     "output_type": "display_data"
    },
    {
     "data": {
      "text/plain": [
       "TrainOutput(global_step=2, training_loss=0.8022475838661194, metrics={'train_runtime': 2.761, 'train_samples_per_second': 0.724, 'train_steps_per_second': 0.724, 'total_flos': 8165523648.0, 'train_loss': 0.8022475838661194, 'epoch': 2.0})"
      ]
     },
     "execution_count": 49,
     "metadata": {},
     "output_type": "execute_result"
    }
   ],
   "execution_count": 49
  },
  {
   "metadata": {
    "ExecuteTime": {
     "end_time": "2025-07-22T18:07:53.161829Z",
     "start_time": "2025-07-22T18:07:53.132755Z"
    }
   },
   "cell_type": "code",
   "source": "trainer.evaluate()",
   "id": "8213233649865708",
   "outputs": [
    {
     "name": "stderr",
     "output_type": "stream",
     "text": [
      "/opt/anaconda3/envs/Dissertation/lib/python3.12/site-packages/torch/utils/data/dataloader.py:683: UserWarning: 'pin_memory' argument is set as true but not supported on MPS now, then device pinned memory won't be used.\n",
      "  warnings.warn(warn_msg)\n"
     ]
    },
    {
     "data": {
      "text/plain": [
       "<IPython.core.display.HTML object>"
      ],
      "text/html": [
       "\n",
       "    <div>\n",
       "      \n",
       "      <progress value='1' max='1' style='width:300px; height:20px; vertical-align: middle;'></progress>\n",
       "      [1/1 : < :]\n",
       "    </div>\n",
       "    "
      ]
     },
     "metadata": {},
     "output_type": "display_data"
    },
    {
     "data": {
      "text/plain": [
       "{'eval_loss': 0.5017200112342834,\n",
       " 'eval_accuracy': 0.625,\n",
       " 'eval_runtime': 0.0256,\n",
       " 'eval_samples_per_second': 39.07,\n",
       " 'eval_steps_per_second': 39.07,\n",
       " 'epoch': 2.0}"
      ]
     },
     "execution_count": 50,
     "metadata": {},
     "output_type": "execute_result"
    }
   ],
   "execution_count": 50
  },
  {
   "metadata": {
    "ExecuteTime": {
     "end_time": "2025-07-22T18:07:58.551523Z",
     "start_time": "2025-07-22T18:07:57.588906Z"
    }
   },
   "cell_type": "code",
   "source": [
    "model.save_pretrained('ner-healthcare-sample')\n",
    "tokenizer.save_pretrained('ner-healthcare-sample')"
   ],
   "id": "bf305eda710a19ae",
   "outputs": [
    {
     "data": {
      "text/plain": [
       "('ner-healthcare-sample/tokenizer_config.json',\n",
       " 'ner-healthcare-sample/special_tokens_map.json',\n",
       " 'ner-healthcare-sample/vocab.txt',\n",
       " 'ner-healthcare-sample/added_tokens.json',\n",
       " 'ner-healthcare-sample/tokenizer.json')"
      ]
     },
     "execution_count": 51,
     "metadata": {},
     "output_type": "execute_result"
    }
   ],
   "execution_count": 51
  },
  {
   "metadata": {
    "ExecuteTime": {
     "end_time": "2025-07-22T18:08:23.948801Z",
     "start_time": "2025-07-22T18:08:23.829174Z"
    }
   },
   "cell_type": "code",
   "source": [
    "model_path = 'ner-healthcare-sample'\n",
    "tokenizer = AutoTokenizer.from_pretrained(model_path)\n",
    "model = AutoModelForTokenClassification.from_pretrained(model_path)\n",
    "model.eval()\n",
    "sentence = 'The patient had diabetes'\n",
    "inputs = tokenizer(sentence, return_tensors='pt', is_split_into_words=False)\n",
    "outputs = model(**inputs)"
   ],
   "id": "f78163c056b5af45",
   "outputs": [],
   "execution_count": 56
  },
  {
   "metadata": {
    "ExecuteTime": {
     "end_time": "2025-07-22T18:08:24.582176Z",
     "start_time": "2025-07-22T18:08:24.565121Z"
    }
   },
   "cell_type": "code",
   "source": [
    "logits = outputs.logits\n",
    "predicted_label = torch.argmax(logits, dim=-1)\n",
    "predicted_label"
   ],
   "id": "3f457a63cfedcc2e",
   "outputs": [
    {
     "data": {
      "text/plain": [
       "tensor([[1, 0, 0, 0, 1, 0]])"
      ]
     },
     "execution_count": 57,
     "metadata": {},
     "output_type": "execute_result"
    }
   ],
   "execution_count": 57
  },
  {
   "metadata": {
    "ExecuteTime": {
     "end_time": "2025-07-22T18:08:25.707271Z",
     "start_time": "2025-07-22T18:08:25.704955Z"
    }
   },
   "cell_type": "code",
   "source": [
    "tokens = tokenizer.convert_ids_to_tokens(inputs['input_ids'][0])\n",
    "tokens"
   ],
   "id": "bda3900b2a8e4dec",
   "outputs": [
    {
     "data": {
      "text/plain": [
       "['[CLS]', 'the', 'patient', 'had', 'diabetes', '[SEP]']"
      ]
     },
     "execution_count": 58,
     "metadata": {},
     "output_type": "execute_result"
    }
   ],
   "execution_count": 58
  },
  {
   "metadata": {
    "ExecuteTime": {
     "end_time": "2025-07-22T18:08:26.605437Z",
     "start_time": "2025-07-22T18:08:26.602534Z"
    }
   },
   "cell_type": "code",
   "source": [
    "predictions = predicted_label[0].tolist()\n",
    "for token, prediction in zip(tokens, predictions):\n",
    "    print(f\"{token}: {id2label[prediction]}\")"
   ],
   "id": "9d6b03d4f0c7825a",
   "outputs": [
    {
     "name": "stdout",
     "output_type": "stream",
     "text": [
      "[CLS]: medical\n",
      "the: non-medical\n",
      "patient: non-medical\n",
      "had: non-medical\n",
      "diabetes: medical\n",
      "[SEP]: non-medical\n"
     ]
    }
   ],
   "execution_count": 59
  },
  {
   "metadata": {
    "ExecuteTime": {
     "end_time": "2025-07-22T18:08:27.457307Z",
     "start_time": "2025-07-22T18:08:27.454903Z"
    }
   },
   "cell_type": "code",
   "source": "",
   "id": "43d0ded0620d585a",
   "outputs": [],
   "execution_count": null
  }
 ],
 "metadata": {
  "kernelspec": {
   "display_name": "Python 3",
   "language": "python",
   "name": "python3"
  },
  "language_info": {
   "codemirror_mode": {
    "name": "ipython",
    "version": 2
   },
   "file_extension": ".py",
   "mimetype": "text/x-python",
   "name": "python",
   "nbconvert_exporter": "python",
   "pygments_lexer": "ipython2",
   "version": "2.7.6"
  }
 },
 "nbformat": 4,
 "nbformat_minor": 5
}
